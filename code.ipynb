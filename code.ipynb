{
 "cells": [
  {
   "cell_type": "code",
   "execution_count": 1,
   "metadata": {},
   "outputs": [],
   "source": [
    "from keras.preprocessing.image import ImageDataGenerator\n",
    "# Import TensorFlow\n",
    "import tensorflow as tf\n",
    "\n",
    "\n",
    "# Import Numpy and Matplotlib\n",
    "import numpy as np\n",
    "import matplotlib.pyplot as plt\n",
    "import pathlib, os, random\n",
    "#Import splitfolders\n",
    "import splitfolders\n",
    "from keras.preprocessing.image import ImageDataGenerator"
   ]
  },
  {
   "cell_type": "code",
   "execution_count": 2,
   "metadata": {},
   "outputs": [
    {
     "data": {
      "text/plain": [
       "WindowsPath('natural_images')"
      ]
     },
     "execution_count": 2,
     "metadata": {},
     "output_type": "execute_result"
    }
   ],
   "source": [
    "data_bs = './natural_images/'\n",
    "data_bs = pathlib.Path(data_bs)\n",
    "data_bs"
   ]
  },
  {
   "cell_type": "code",
   "execution_count": 3,
   "metadata": {},
   "outputs": [
    {
     "name": "stderr",
     "output_type": "stream",
     "text": [
      "Copying files: 6899 files [00:10, 648.63 files/s]\n"
     ]
    }
   ],
   "source": [
    "splitfolders.ratio(data_bs, output='Imgs/', seed=123, ratio=(0.7, 0.15, 0.15), group_prefix=None)"
   ]
  },
  {
   "cell_type": "code",
   "execution_count": 4,
   "metadata": {},
   "outputs": [
    {
     "name": "stdout",
     "output_type": "stream",
     "text": [
      "Found 4826 images belonging to 8 classes.\n",
      "Found 1041 images belonging to 8 classes.\n",
      "Found 1032 images belonging to 8 classes.\n"
     ]
    }
   ],
   "source": [
    "batch_size = 128\n",
    "img_height, img_width = 32, 32\n",
    "input_shape = (img_height, img_width, 3)\n",
    "\n",
    "datagen = ImageDataGenerator(rescale=1.0 / 255)\n",
    "\n",
    "train_ds = datagen.flow_from_directory('Imgs/train/', target_size=(img_height, img_width), subset='training', class_mode='sparse', batch_size=batch_size)\n",
    "\n",
    "test_ds = datagen.flow_from_directory('Imgs/test/', target_size=(img_height, img_width), shuffle=False, class_mode='sparse', batch_size=batch_size)\n",
    "\n",
    "val_ds = datagen.flow_from_directory('Imgs/val/', target_size=(img_height, img_width), shuffle=False, class_mode='sparse', batch_size=batch_size)"
   ]
  },
  {
   "cell_type": "code",
   "execution_count": 5,
   "metadata": {},
   "outputs": [],
   "source": [
    "# Create a model object\n",
    "model = tf.keras.models.Sequential()"
   ]
  },
  {
   "cell_type": "code",
   "execution_count": 6,
   "metadata": {},
   "outputs": [],
   "source": [
    "model.add(tf.keras.layers.Conv2D(32, kernel_size=(3, 3),strides=(1,1),\n",
    " padding='same',activation=\"relu\", input_shape=input_shape))\n",
    "\n",
    "model.add(tf.keras.layers.MaxPooling2D((2, 2)))\n",
    "\n",
    "model.add(tf.keras.layers.Conv2D(32, kernel_size=(3, 3),strides=(1,1),\n",
    " padding='same',activation=\"relu\", input_shape=input_shape))\n",
    "\n",
    "\n",
    "model.add(tf.keras.layers.Flatten())\n",
    "\n",
    "# Add the dense layer and dropout layer\n",
    "model.add(tf.keras.layers.Dense(64, activation=\"relu\"))\n",
    "model.add(tf.keras.layers.Dropout(0.5))\n",
    "\n",
    "\n",
    "# Add the dense layer and dropout layer\n",
    "model.add(tf.keras.layers.Dense(64, activation=\"relu\"))\n",
    "model.add(tf.keras.layers.Dropout(0.5))\n"
   ]
  },
  {
   "cell_type": "code",
   "execution_count": 7,
   "metadata": {},
   "outputs": [],
   "source": [
    "# Add the output layer\n",
    "model.add(tf.keras.layers.Dense(8, activation=\"softmax\"))"
   ]
  },
  {
   "cell_type": "code",
   "execution_count": 8,
   "metadata": {},
   "outputs": [],
   "source": [
    "# Compile the model\n",
    "model.compile(optimizer=\"adam\",\n",
    "loss=\"sparse_categorical_crossentropy\",\n",
    "metrics=[\"accuracy\"])"
   ]
  },
  {
   "cell_type": "code",
   "execution_count": 9,
   "metadata": {},
   "outputs": [
    {
     "name": "stdout",
     "output_type": "stream",
     "text": [
      "Epoch 1/50\n",
      "38/38 [==============================] - 31s 663ms/step - loss: 1.7878 - accuracy: 0.3206 - val_loss: 1.2429 - val_accuracy: 0.6318\n",
      "Epoch 2/50\n",
      "38/38 [==============================] - 6s 157ms/step - loss: 1.2331 - accuracy: 0.5634 - val_loss: 0.8183 - val_accuracy: 0.7713\n",
      "Epoch 3/50\n",
      "38/38 [==============================] - 6s 158ms/step - loss: 0.9862 - accuracy: 0.6448 - val_loss: 0.6096 - val_accuracy: 0.8149\n",
      "Epoch 4/50\n",
      "38/38 [==============================] - 6s 161ms/step - loss: 0.8458 - accuracy: 0.6969 - val_loss: 0.5602 - val_accuracy: 0.8159\n",
      "Epoch 5/50\n",
      "38/38 [==============================] - 7s 182ms/step - loss: 0.7711 - accuracy: 0.7174 - val_loss: 0.4691 - val_accuracy: 0.8430\n",
      "Epoch 6/50\n",
      "38/38 [==============================] - 6s 153ms/step - loss: 0.6785 - accuracy: 0.7578 - val_loss: 0.3991 - val_accuracy: 0.8566\n",
      "Epoch 7/50\n",
      "38/38 [==============================] - 6s 155ms/step - loss: 0.6273 - accuracy: 0.7650 - val_loss: 0.3752 - val_accuracy: 0.8702\n",
      "Epoch 8/50\n",
      "38/38 [==============================] - 6s 164ms/step - loss: 0.5661 - accuracy: 0.7932 - val_loss: 0.3374 - val_accuracy: 0.8672\n",
      "Epoch 9/50\n",
      "38/38 [==============================] - 6s 157ms/step - loss: 0.5293 - accuracy: 0.8000 - val_loss: 0.3005 - val_accuracy: 0.8731\n",
      "Epoch 10/50\n",
      "38/38 [==============================] - 6s 160ms/step - loss: 0.4902 - accuracy: 0.8090 - val_loss: 0.3043 - val_accuracy: 0.8857\n",
      "Epoch 11/50\n",
      "38/38 [==============================] - 6s 154ms/step - loss: 0.4575 - accuracy: 0.8197 - val_loss: 0.2800 - val_accuracy: 0.8760\n",
      "Epoch 12/50\n",
      "38/38 [==============================] - 6s 152ms/step - loss: 0.4340 - accuracy: 0.8322 - val_loss: 0.2990 - val_accuracy: 0.8740\n",
      "Epoch 13/50\n",
      "38/38 [==============================] - 7s 176ms/step - loss: 0.4077 - accuracy: 0.8456 - val_loss: 0.2663 - val_accuracy: 0.8847\n",
      "Epoch 14/50\n",
      "38/38 [==============================] - 7s 179ms/step - loss: 0.3874 - accuracy: 0.8429 - val_loss: 0.3173 - val_accuracy: 0.8866\n",
      "Epoch 15/50\n",
      "38/38 [==============================] - 6s 162ms/step - loss: 0.3765 - accuracy: 0.8479 - val_loss: 0.2872 - val_accuracy: 0.8702\n",
      "Epoch 16/50\n",
      "38/38 [==============================] - 6s 170ms/step - loss: 0.3675 - accuracy: 0.8523 - val_loss: 0.2989 - val_accuracy: 0.8692\n",
      "Epoch 17/50\n",
      "38/38 [==============================] - 6s 167ms/step - loss: 0.3756 - accuracy: 0.8475 - val_loss: 0.2635 - val_accuracy: 0.8847\n",
      "Epoch 18/50\n",
      "38/38 [==============================] - 6s 164ms/step - loss: 0.3670 - accuracy: 0.8492 - val_loss: 0.2645 - val_accuracy: 0.8750\n",
      "Epoch 19/50\n",
      "38/38 [==============================] - 6s 169ms/step - loss: 0.3301 - accuracy: 0.8608 - val_loss: 0.2851 - val_accuracy: 0.8963\n",
      "Epoch 20/50\n",
      "38/38 [==============================] - 6s 161ms/step - loss: 0.3303 - accuracy: 0.8692 - val_loss: 0.2707 - val_accuracy: 0.8876\n",
      "Epoch 21/50\n",
      "38/38 [==============================] - 6s 155ms/step - loss: 0.3334 - accuracy: 0.8562 - val_loss: 0.2518 - val_accuracy: 0.8973\n",
      "Epoch 22/50\n",
      "38/38 [==============================] - 6s 156ms/step - loss: 0.3276 - accuracy: 0.8684 - val_loss: 0.2603 - val_accuracy: 0.8973\n",
      "Epoch 23/50\n",
      "38/38 [==============================] - 6s 152ms/step - loss: 0.3046 - accuracy: 0.8707 - val_loss: 0.2438 - val_accuracy: 0.9060\n",
      "Epoch 24/50\n",
      "38/38 [==============================] - 6s 154ms/step - loss: 0.2981 - accuracy: 0.8773 - val_loss: 0.2620 - val_accuracy: 0.8944\n",
      "Epoch 25/50\n",
      "38/38 [==============================] - 6s 160ms/step - loss: 0.2937 - accuracy: 0.8728 - val_loss: 0.2445 - val_accuracy: 0.9021\n",
      "Epoch 26/50\n",
      "38/38 [==============================] - 6s 165ms/step - loss: 0.2968 - accuracy: 0.8746 - val_loss: 0.2828 - val_accuracy: 0.9041\n",
      "Epoch 27/50\n",
      "38/38 [==============================] - 7s 179ms/step - loss: 0.2831 - accuracy: 0.8777 - val_loss: 0.2513 - val_accuracy: 0.9138\n",
      "Epoch 28/50\n",
      "38/38 [==============================] - 7s 175ms/step - loss: 0.2743 - accuracy: 0.8802 - val_loss: 0.2714 - val_accuracy: 0.8983\n",
      "Epoch 29/50\n",
      "38/38 [==============================] - 7s 175ms/step - loss: 0.2582 - accuracy: 0.8931 - val_loss: 0.2408 - val_accuracy: 0.9079\n",
      "Epoch 30/50\n",
      "38/38 [==============================] - 7s 172ms/step - loss: 0.2604 - accuracy: 0.8848 - val_loss: 0.2905 - val_accuracy: 0.9021\n",
      "Epoch 31/50\n",
      "38/38 [==============================] - 6s 169ms/step - loss: 0.2716 - accuracy: 0.8871 - val_loss: 0.2489 - val_accuracy: 0.9128\n",
      "Epoch 32/50\n",
      "38/38 [==============================] - 7s 172ms/step - loss: 0.2510 - accuracy: 0.8956 - val_loss: 0.2462 - val_accuracy: 0.9128\n",
      "Epoch 33/50\n",
      "38/38 [==============================] - 7s 175ms/step - loss: 0.2607 - accuracy: 0.8908 - val_loss: 0.2565 - val_accuracy: 0.9157\n",
      "Epoch 34/50\n",
      "38/38 [==============================] - 6s 167ms/step - loss: 0.2542 - accuracy: 0.8923 - val_loss: 0.2765 - val_accuracy: 0.9070\n",
      "Epoch 35/50\n",
      "38/38 [==============================] - 6s 165ms/step - loss: 0.2278 - accuracy: 0.9047 - val_loss: 0.2491 - val_accuracy: 0.9176\n",
      "Epoch 36/50\n",
      "38/38 [==============================] - 6s 166ms/step - loss: 0.2196 - accuracy: 0.9043 - val_loss: 0.2667 - val_accuracy: 0.9118\n",
      "Epoch 37/50\n",
      "38/38 [==============================] - 7s 180ms/step - loss: 0.2227 - accuracy: 0.9022 - val_loss: 0.2539 - val_accuracy: 0.9196\n",
      "Epoch 38/50\n",
      "38/38 [==============================] - 7s 180ms/step - loss: 0.2226 - accuracy: 0.9026 - val_loss: 0.2952 - val_accuracy: 0.9079\n",
      "Epoch 39/50\n",
      "38/38 [==============================] - 7s 178ms/step - loss: 0.2524 - accuracy: 0.8993 - val_loss: 0.2462 - val_accuracy: 0.9138\n",
      "Epoch 40/50\n",
      "38/38 [==============================] - 7s 185ms/step - loss: 0.2085 - accuracy: 0.9105 - val_loss: 0.3024 - val_accuracy: 0.9031\n",
      "Epoch 41/50\n",
      "38/38 [==============================] - 7s 172ms/step - loss: 0.2323 - accuracy: 0.8978 - val_loss: 0.2531 - val_accuracy: 0.9138\n",
      "Epoch 42/50\n",
      "38/38 [==============================] - 7s 171ms/step - loss: 0.2173 - accuracy: 0.9076 - val_loss: 0.2410 - val_accuracy: 0.9215\n",
      "Epoch 43/50\n",
      "38/38 [==============================] - 7s 172ms/step - loss: 0.2046 - accuracy: 0.9109 - val_loss: 0.2449 - val_accuracy: 0.9234\n",
      "Epoch 44/50\n",
      "38/38 [==============================] - 7s 179ms/step - loss: 0.1962 - accuracy: 0.9208 - val_loss: 0.2430 - val_accuracy: 0.9225\n",
      "Epoch 45/50\n",
      "38/38 [==============================] - 7s 178ms/step - loss: 0.2075 - accuracy: 0.9123 - val_loss: 0.2543 - val_accuracy: 0.9254\n",
      "Epoch 46/50\n",
      "38/38 [==============================] - 7s 177ms/step - loss: 0.1950 - accuracy: 0.9182 - val_loss: 0.2731 - val_accuracy: 0.9109\n",
      "Epoch 47/50\n",
      "38/38 [==============================] - 7s 181ms/step - loss: 0.1994 - accuracy: 0.9117 - val_loss: 0.2574 - val_accuracy: 0.9157\n",
      "Epoch 48/50\n",
      "38/38 [==============================] - 7s 174ms/step - loss: 0.2206 - accuracy: 0.9090 - val_loss: 0.2287 - val_accuracy: 0.9283\n",
      "Epoch 49/50\n",
      "38/38 [==============================] - 6s 162ms/step - loss: 0.1991 - accuracy: 0.9155 - val_loss: 0.2321 - val_accuracy: 0.9147\n",
      "Epoch 50/50\n",
      "38/38 [==============================] - 6s 166ms/step - loss: 0.1897 - accuracy: 0.9208 - val_loss: 0.3191 - val_accuracy: 0.9109\n"
     ]
    }
   ],
   "source": [
    "# Train the model for 50 epochs with batch size of 128\n",
    "results = model.fit(train_ds, epochs=50, batch_size=batch_size,\n",
    "validation_data=val_ds)\n"
   ]
  },
  {
   "cell_type": "code",
   "execution_count": 10,
   "metadata": {},
   "outputs": [
    {
     "data": {
      "image/png": "[encoded data removed]",
      "text/plain": [
       "<Figure size 432x288 with 1 Axes>"
      ]
     },
     "metadata": {
      "needs_background": "light"
     },
     "output_type": "display_data"
    }
   ],
   "source": [
    "plt.plot(results.history[\"loss\"], label=\"Loss\")\n",
    "\n",
    "# Plot the the validation loss\n",
    "plt.plot(results.history[\"val_loss\"], label=\"Validation Loss\")\n",
    "\n",
    "# Name the x and y axises\n",
    "plt.xlabel(\"Epochs\")\n",
    "plt.ylabel(\"Loss\")\n",
    "\n",
    "# Put legend table\n",
    "plt.legend()\n",
    "\n",
    "# Show the plot\n",
    "plt.show()"
   ]
  },
  {
   "cell_type": "code",
   "execution_count": 11,
   "metadata": {},
   "outputs": [
    {
     "data": {
      "image/png": "[encoded data removed]",
      "text/plain": [
       "<Figure size 432x288 with 1 Axes>"
      ]
     },
     "metadata": {
      "needs_background": "light"
     },
     "output_type": "display_data"
    }
   ],
   "source": [
    "# Plot the the training accuracy\n",
    "plt.plot(results.history[\"accuracy\"], label=\"Accuracy\")\n",
    "\n",
    "# Plot the the validation accuracy\n",
    "plt.plot(results.history[\"val_accuracy\"], label=\"Validation Accuracy\")\n",
    "\n",
    "# Name the x and y axises\n",
    "plt.xlabel(\"Epochs\")\n",
    "plt.ylabel(\"Accuracy\")\n",
    "# Put legend table\n",
    "plt.legend()\n",
    "\n",
    "# Show the plot\n",
    "plt.show()"
   ]
  },
  {
   "cell_type": "code",
   "execution_count": 12,
   "metadata": {},
   "outputs": [
    {
     "name": "stdout",
     "output_type": "stream",
     "text": [
      "9/9 [==============================] - 5s 601ms/step - loss: 0.3774 - accuracy: 0.8866\n"
     ]
    },
    {
     "data": {
      "text/plain": [
       "[0.37739765644073486, 0.8866474628448486]"
      ]
     },
     "execution_count": 12,
     "metadata": {},
     "output_type": "execute_result"
    }
   ],
   "source": [
    "# Evaluate the performance\n",
    "model.evaluate(test_ds)"
   ]
  }
 ],
 "metadata": {
  "kernelspec": {
   "display_name": "Python 3.9.7 ('base')",
   "language": "python",
   "name": "python3"
  },
  "language_info": {
   "codemirror_mode": {
    "name": "ipython",
    "version": 3
   },
   "file_extension": ".py",
   "mimetype": "text/x-python",
   "name": "python",
   "nbconvert_exporter": "python",
   "pygments_lexer": "ipython3",
   "version": "3.9.12"
  },
  "orig_nbformat": 4,
  "vscode": {
   "interpreter": {
    "hash": "a5fbe1c4708df8c2d51ce54c8048efa836d2fb5a74217477505b883e66bc0223"
   }
  }
 },
 "nbformat": 4,
 "nbformat_minor": 2
}
